{
 "cells": [
  {
   "cell_type": "markdown",
   "metadata": {},
   "source": [
    "## Creating vignere table"
   ]
  },
  {
   "cell_type": "code",
   "execution_count": 11,
   "metadata": {},
   "outputs": [],
   "source": [
    "alphabet = \"abcdefghijklmnopqrstuvwxyz\"\n",
    "vignereTable = []\n",
    "for i in range(0,26):\n",
    "    rowList = []\n",
    "    for j in range(0,26):\n",
    "        rowList.append(i%26)\n",
    "        i += 1\n",
    "    vignereTable.append(rowList)"
   ]
  },
  {
   "cell_type": "markdown",
   "metadata": {},
   "source": [
    "## Encryption Procedure"
   ]
  },
  {
   "cell_type": "code",
   "execution_count": 3,
   "metadata": {},
   "outputs": [],
   "source": [
    "plainText = \"asimpleexample\".lower()\n",
    "key = \"battista\".lower()"
   ]
  },
  {
   "cell_type": "markdown",
   "metadata": {},
   "source": [
    "#### preparing the input data"
   ]
  },
  {
   "cell_type": "code",
   "execution_count": 6,
   "metadata": {},
   "outputs": [],
   "source": [
    "plainTextList = []\n",
    "for ch in plainText:\n",
    "    plainTextList.append(alphabet.index(ch))\n",
    "keystream = \"\"\n",
    "for i in range(len(plainText)):\n",
    "    keystream += key[i%len(key)]\n",
    "keyList = []\n",
    "for ch in keystream:\n",
    "    keyList.append(alphabet.index(ch))"
   ]
  },
  {
   "cell_type": "markdown",
   "metadata": {},
   "source": [
    "#### encryption"
   ]
  },
  {
   "cell_type": "code",
   "execution_count": 7,
   "metadata": {},
   "outputs": [
    {
     "name": "stdout",
     "output_type": "stream",
     "text": [
      "bsbfxdxeyafitw\n"
     ]
    }
   ],
   "source": [
    "cipherText = \"\"\n",
    "for i in range(len(plainText)):\n",
    "    cipherText += alphabet[vignereTable[keyList[i]][plainTextList[i]]]\n",
    "print(cipherText)"
   ]
  },
  {
   "cell_type": "markdown",
   "metadata": {},
   "source": [
    "## Decryption Procedure"
   ]
  },
  {
   "cell_type": "code",
   "execution_count": 8,
   "metadata": {},
   "outputs": [],
   "source": [
    "cipherText = \"ZPSPNOXMOFAORMQDPUKZ\".lower()\n",
    "key = \"giovan\".lower()"
   ]
  },
  {
   "cell_type": "markdown",
   "metadata": {},
   "source": [
    "#### preparing the input data"
   ]
  },
  {
   "cell_type": "code",
   "execution_count": 9,
   "metadata": {},
   "outputs": [],
   "source": [
    "keystream = \"\"\n",
    "for i in range(len(cipherText)):\n",
    "    keystream += key[i%len(key)]\n",
    "keyList = []\n",
    "for ch in keystream:\n",
    "    keyList.append(alphabet.index(ch))\n",
    "cipherTextList = []\n",
    "for ch in cipherText:\n",
    "    cipherTextList.append(alphabet.index(ch))"
   ]
  },
  {
   "cell_type": "markdown",
   "metadata": {},
   "source": [
    "#### decryption "
   ]
  },
  {
   "cell_type": "code",
   "execution_count": 10,
   "metadata": {},
   "outputs": [
    {
     "name": "stdout",
     "output_type": "stream",
     "text": [
      "theunbreakablecipher\n"
     ]
    }
   ],
   "source": [
    "extractedMessage = \"\"\n",
    "for i in range(len(cipherText)):\n",
    "    extractedMessage += alphabet[(cipherTextList[i]-keyList[i])%26]\n",
    "print(extractedMessage)"
   ]
  }
 ],
 "metadata": {
  "kernelspec": {
   "display_name": "Python 3",
   "language": "python",
   "name": "python3"
  },
  "language_info": {
   "codemirror_mode": {
    "name": "ipython",
    "version": 3
   },
   "file_extension": ".py",
   "mimetype": "text/x-python",
   "name": "python",
   "nbconvert_exporter": "python",
   "pygments_lexer": "ipython3",
   "version": "3.6.4"
  }
 },
 "nbformat": 4,
 "nbformat_minor": 2
}
