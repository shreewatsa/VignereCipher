{
 "cells": [
  {
   "cell_type": "markdown",
   "metadata": {},
   "source": [
    "# Vignere Cipher Without Vignere Table"
   ]
  },
  {
   "cell_type": "code",
   "execution_count": 1,
   "metadata": {},
   "outputs": [],
   "source": [
    "alphabet = \"abcdefghijklmnopqrstuvwxyz\""
   ]
  },
  {
   "cell_type": "markdown",
   "metadata": {},
   "source": [
    "### Encryption procedure"
   ]
  },
  {
   "cell_type": "code",
   "execution_count": 3,
   "metadata": {},
   "outputs": [
    {
     "name": "stdout",
     "output_type": "stream",
     "text": [
      "Enter the plain text : asimplemessage\n",
      "Enter the key : prime\n",
      "pjqytavuqwhroq\n"
     ]
    }
   ],
   "source": [
    "plainText = input(\"Enter the plain text : \").lower().replace(\" \",\"\")\n",
    "key = input(\"Enter the key : \").lower().replace(\" \",\"\")\n",
    "#preparing keystream\n",
    "keystream = \"\"\n",
    "for i in range(len(plainText)):\n",
    "    keystream += key[i%len(key)]\n",
    "cipherText = \"\"\n",
    "for i in range(len(plainText)):\n",
    "    cipherText += alphabet[(alphabet.index(keystream[i])+alphabet.index(plainText[i]))%26]\n",
    "print(cipherText)"
   ]
  },
  {
   "cell_type": "markdown",
   "metadata": {},
   "source": [
    "### Decryption procedure"
   ]
  },
  {
   "cell_type": "code",
   "execution_count": 4,
   "metadata": {},
   "outputs": [
    {
     "name": "stdout",
     "output_type": "stream",
     "text": [
      "Enter the cipher text : pjqytavuqwhroq\n",
      "Enter the key : prime\n",
      "asimplemessage\n"
     ]
    }
   ],
   "source": [
    "cipherText = input(\"Enter the cipher text : \").lower().replace(\" \",\"\")\n",
    "key = input(\"Enter the key : \").lower().replace(\" \",\"\")\n",
    "#preparing keystream\n",
    "keystream = \"\"\n",
    "for i in range(len(cipherText)):\n",
    "    keystream += key[i%len(key)]\n",
    "plainText = \"\"\n",
    "for i in range(len(cipherText)):\n",
    "    plainText += alphabet[(alphabet.index(cipherText[i])-alphabet.index(keystream[i]))%26]\n",
    "print(plainText)"
   ]
  }
 ],
 "metadata": {
  "kernelspec": {
   "display_name": "Python 3",
   "language": "python",
   "name": "python3"
  },
  "language_info": {
   "codemirror_mode": {
    "name": "ipython",
    "version": 3
   },
   "file_extension": ".py",
   "mimetype": "text/x-python",
   "name": "python",
   "nbconvert_exporter": "python",
   "pygments_lexer": "ipython3",
   "version": "3.6.4"
  }
 },
 "nbformat": 4,
 "nbformat_minor": 2
}
